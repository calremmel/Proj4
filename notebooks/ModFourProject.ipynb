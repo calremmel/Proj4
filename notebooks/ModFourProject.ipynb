{
 "cells": [
  {
   "cell_type": "markdown",
   "metadata": {},
   "source": [
    "# Categorizing News Headlines using CNN\n",
    "\n",
    "# Table of Contents\n",
    "\n",
    "* Introduction\n",
    "* Obtain & Scrub\n",
    "* Explore\n",
    "* Model\n",
    "    * Word Embeddings\n",
    "    * Architecture\n",
    "    * Grid Search\n",
    "* Evaluate\n",
    "* Conclusion\n",
    "\n",
    "# Introduction\n",
    "\n",
    "The low barrier to entry in online publishing means that consumers of news are bombarded with news from many sources and wildly different levels of quality and accuracy. Even the savviest media consumers will find themselves fooled sometimes by convincing but distorted content.\n",
    "\n",
    "In this project, I will attempt to tackle this problem using a Convolutional Neural Network. While more commonly applied to image classification, CNNs have been displaying promising results in text classification when applied over word embedding spaces, and I'm eager to give it a try.\n",
    "\n",
    "I will attempt to sort news headlines accurately into three categories:\n",
    " 1. Real News: Here defined as reputable news sources like the New York Times and The Guardian.\n",
    " 2. Parody News: Intentially humorous works that mimic the style of real news.\n",
    " 3. Clickbait: Articles with titles that are meant to draw attention, regardless of quality or accuracy."
   ]
  },
  {
   "cell_type": "code",
   "execution_count": 5,
   "metadata": {},
   "outputs": [],
   "source": [
    "import pandas as pd\n",
    "import numpy as np\n",
    "import matplotlib.pyplot as plt\n",
    "import string\n",
    "\n",
    "from gensim.models import Word2Vec\n",
    "from keras.preprocessing.text import Tokenizer\n",
    "from keras.preprocessing.sequence import pad_sequences\n",
    "from keras.layers import Dense, Input, Dropout, Activation, Conv1D, MaxPooling1D\n",
    "from keras.layers import GlobalMaxPool1D, GlobalMaxPooling1D\n",
    "from keras.models import Sequential\n",
    "from keras.callbacks import EarlyStopping\n",
    "from keras.optimizers import Adam, Nadam\n",
    "from keras.activations import relu, elu\n",
    "from keras.losses import categorical_crossentropy\n",
    "from keras import initializers, regularizers, constraints, optimizers, layers\n",
    "\n",
    "import talos as ta\n",
    "import wrangle as wr\n",
    "from talos.metrics.keras_metrics import fmeasure_acc\n",
    "from talos import live"
   ]
  },
  {
   "cell_type": "markdown",
   "metadata": {},
   "source": [
    "# Obtain\n",
    "\n",
    "The data will come from two sources:\n",
    "\n",
    "1. The News Headline Dataset for Sarcasm Detection, obtainable here: https://www.kaggle.com/rmisra/news-headlines-dataset-for-sarcasm-detection\n",
    "2. The Clickbait and Non-Clickbait datasets found here: https://github.com/bhargaviparanjape/clickbait/tree/master/dataset. This is the source data for \"Stop Clickbait: Detecting and preventing clickbaits in online news media\", authored by Chakraborty, Abhijnan and Paranjape, Bhargavi and Kakarla, Sourya and Ganguly, Niloy, published in *Advances in Social Networks Analysis and Mining (ASONAM).*\n",
    "\n",
    "The following function loads the data, strips punctuation, equalizes the lengths, one-hot encodes the sources, and then combines everything into a single dataset."
   ]
  },
  {
   "cell_type": "code",
   "execution_count": 6,
   "metadata": {},
   "outputs": [],
   "source": [
    "def load_data():\n",
    "\n",
    "    seed = 7\n",
    "\n",
    "    parody = pd.read_csv('../data/processed/parody.csv')\n",
    "    parody.drop(['Unnamed: 0', 'article_link', 'is_parody'], axis=1, inplace=True)\n",
    "\n",
    "    clickbait = open('../data/raw/clickbait_data', mode='r')\n",
    "    clickbait = [line for line in clickbait]\n",
    "    clickbait = pd.DataFrame({\"headline\": clickbait})\n",
    "    clickbait = clickbait[clickbait['headline'] != '\\n']\n",
    "    clickbait = clickbait['headline'].str.replace('\\n', '')\n",
    "    clickbait = pd.DataFrame(clickbait)\n",
    "    clickbait.dropna(inplace=True)\n",
    "    clickbait.headline = clickbait.headline.str.lower()\n",
    "\n",
    "    real = open('../data/raw/non_clickbait_data', mode='r')\n",
    "    real = [line for line in real]\n",
    "    real = pd.DataFrame({\"headline\": real})\n",
    "    real = real[real['headline'] != '\\n']\n",
    "    real = real['headline'].str.replace('\\n', '')\n",
    "    real = pd.DataFrame(real)\n",
    "    real.dropna(inplace=True)\n",
    "    real.headline = real.headline.str.lower()\n",
    "\n",
    "    table = str.maketrans('', '', string.punctuation)\n",
    "\n",
    "    real.headline = real.headline.str.translate(table)\n",
    "    parody.headline = parody.headline.str.translate(table)\n",
    "    clickbait.headline = clickbait.headline.str.translate(table)\n",
    "\n",
    "    real['real'] = 1\n",
    "    real['parody'] = 0\n",
    "    real['clickbait'] = 0\n",
    "\n",
    "    parody['real'] = 0\n",
    "    parody['parody'] = 1\n",
    "    parody['clickbait'] = 0\n",
    "\n",
    "    clickbait['real'] = 0\n",
    "    clickbait['parody'] = 0\n",
    "    clickbait['clickbait'] = 1\n",
    "    \n",
    "    real = real.sample(n=11725, random_state=seed)\n",
    "    clickbait = clickbait.sample(n=11725, random_state=seed)\n",
    "\n",
    "    df = pd.concat([real, parody, clickbait])\n",
    "    df = df.sample(frac=1).reset_index(drop=True)\n",
    "\n",
    "    return df"
   ]
  },
  {
   "cell_type": "code",
   "execution_count": 7,
   "metadata": {},
   "outputs": [],
   "source": [
    "df = load_data()"
   ]
  },
  {
   "cell_type": "code",
   "execution_count": 8,
   "metadata": {},
   "outputs": [
    {
     "data": {
      "text/html": [
       "<div>\n",
       "<style scoped>\n",
       "    .dataframe tbody tr th:only-of-type {\n",
       "        vertical-align: middle;\n",
       "    }\n",
       "\n",
       "    .dataframe tbody tr th {\n",
       "        vertical-align: top;\n",
       "    }\n",
       "\n",
       "    .dataframe thead th {\n",
       "        text-align: right;\n",
       "    }\n",
       "</style>\n",
       "<table border=\"1\" class=\"dataframe\">\n",
       "  <thead>\n",
       "    <tr style=\"text-align: right;\">\n",
       "      <th></th>\n",
       "      <th>headline</th>\n",
       "      <th>real</th>\n",
       "      <th>parody</th>\n",
       "      <th>clickbait</th>\n",
       "    </tr>\n",
       "  </thead>\n",
       "  <tbody>\n",
       "    <tr>\n",
       "      <th>0</th>\n",
       "      <td>dominos introduces thanksgiving feast pizza</td>\n",
       "      <td>0</td>\n",
       "      <td>1</td>\n",
       "      <td>0</td>\n",
       "    </tr>\n",
       "    <tr>\n",
       "      <th>1</th>\n",
       "      <td>25 ridiculously romantic moments that made us ...</td>\n",
       "      <td>0</td>\n",
       "      <td>0</td>\n",
       "      <td>1</td>\n",
       "    </tr>\n",
       "    <tr>\n",
       "      <th>2</th>\n",
       "      <td>apple inc doubled its profits</td>\n",
       "      <td>1</td>\n",
       "      <td>0</td>\n",
       "      <td>0</td>\n",
       "    </tr>\n",
       "    <tr>\n",
       "      <th>3</th>\n",
       "      <td>myanmar dissident suu kyi to run for parliamen...</td>\n",
       "      <td>1</td>\n",
       "      <td>0</td>\n",
       "      <td>0</td>\n",
       "    </tr>\n",
       "    <tr>\n",
       "      <th>4</th>\n",
       "      <td>worlds fattest town makes consumes worlds larg...</td>\n",
       "      <td>0</td>\n",
       "      <td>1</td>\n",
       "      <td>0</td>\n",
       "    </tr>\n",
       "  </tbody>\n",
       "</table>\n",
       "</div>"
      ],
      "text/plain": [
       "                                            headline  real  parody  clickbait\n",
       "0        dominos introduces thanksgiving feast pizza     0       1          0\n",
       "1  25 ridiculously romantic moments that made us ...     0       0          1\n",
       "2                      apple inc doubled its profits     1       0          0\n",
       "3  myanmar dissident suu kyi to run for parliamen...     1       0          0\n",
       "4  worlds fattest town makes consumes worlds larg...     0       1          0"
      ]
     },
     "execution_count": 8,
     "metadata": {},
     "output_type": "execute_result"
    }
   ],
   "source": [
    "df.head()"
   ]
  },
  {
   "cell_type": "markdown",
   "metadata": {},
   "source": [
    "# Explore\n",
    "\n",
    "To do: Word clouds, most unique words, word embedding charts."
   ]
  },
  {
   "cell_type": "markdown",
   "metadata": {},
   "source": [
    "# Model\n",
    "\n",
    "From here, we'll need to "
   ]
  },
  {
   "cell_type": "code",
   "execution_count": 9,
   "metadata": {},
   "outputs": [],
   "source": [
    "def splitter(df, train_percent):\n",
    "\n",
    "    train_size = int(df.shape[0] * train_percent)\n",
    "\n",
    "    X_train = df.iloc[:train_size, 0]\n",
    "    X_test = df.iloc[train_size:, 0]\n",
    "    y_train = df.iloc[:train_size, 1:]\n",
    "    y_test = df.iloc[train_size:, 1:]\n",
    "\n",
    "    return X_train, X_test, y_train, y_test"
   ]
  },
  {
   "cell_type": "code",
   "execution_count": 10,
   "metadata": {},
   "outputs": [],
   "source": [
    "X_train, X_test, y_train, y_test = splitter(df, .90)"
   ]
  },
  {
   "cell_type": "code",
   "execution_count": 20,
   "metadata": {},
   "outputs": [],
   "source": [
    "tokenizer = Tokenizer(num_words=20000)\n",
    "tokenizer.fit_on_texts(list(X_train))"
   ]
  },
  {
   "cell_type": "code",
   "execution_count": 21,
   "metadata": {},
   "outputs": [],
   "source": [
    "def token_lists(X_train, X_test, tokenizer):\n",
    "    \n",
    "    list_tokenized_train = tokenizer.texts_to_sequences(X_train)\n",
    "    list_tokenized_test = tokenizer.texts_to_sequences(X_test)\n",
    "\n",
    "    return list_tokenized_train, list_tokenized_test"
   ]
  },
  {
   "cell_type": "code",
   "execution_count": 22,
   "metadata": {},
   "outputs": [],
   "source": [
    "list_tokenized_train, list_tokenized_test = token_lists(X_train, X_test, tokenizer)"
   ]
  },
  {
   "cell_type": "code",
   "execution_count": 23,
   "metadata": {},
   "outputs": [],
   "source": [
    "maxlen = 18\n",
    "X_t = pad_sequences(list_tokenized_train, maxlen=maxlen)\n",
    "X_te = pad_sequences(list_tokenized_test, maxlen=maxlen)\n",
    "y_t = np.array(y_train)\n",
    "y_te = np.array(y_test)"
   ]
  },
  {
   "cell_type": "code",
   "execution_count": 24,
   "metadata": {},
   "outputs": [],
   "source": [
    "def get_embedding(list_tokenized_train, list_tokenized_test, tokenizer):\n",
    "\n",
    "    tokens = tokenizer.sequences_to_texts(list_tokenized_train) + tokenizer.sequences_to_texts(list_tokenized_test)\n",
    "    tokens = [t.split(' ') for t in tokens]\n",
    "    model = Word2Vec(tokens, size=100, window=5, min_count=1, workers=4)\n",
    "    model.train(tokens, total_examples=model.corpus_count, epochs=10)\n",
    "    embeddings = model.wv\n",
    "    keras_embedding = embeddings.get_keras_embedding()\n",
    "\n",
    "    return keras_embedding"
   ]
  },
  {
   "cell_type": "markdown",
   "metadata": {},
   "source": [
    "# Architecture"
   ]
  },
  {
   "cell_type": "code",
   "execution_count": 79,
   "metadata": {},
   "outputs": [],
   "source": [
    "def news_conv_model(x_train, y_train, x_val, y_val, params):\n",
    "    \n",
    "    keras_embedding = get_embedding(list_tokenized_train, list_tokenized_test, tokenizer)\n",
    "    \n",
    "    # define base model\n",
    "    model = Sequential()\n",
    "    model.add(keras_embedding)\n",
    "    model.add(Conv1D(64, 3, activation='relu', padding='same'))\n",
    "    model.add(MaxPooling1D())\n",
    "    model.add(Conv1D(64, 3, activation='relu', padding='same'))\n",
    "    model.add(MaxPooling1D())\n",
    "    model.add(Conv1D(64, 3, activation='relu', padding='same'))\n",
    "    model.add(GlobalMaxPooling1D())\n",
    "    model.add(Dropout(0.5))\n",
    "    model.add(Dense(32, activation='relu', kernel_regularizer=regularizers.l2(1e-4)))\n",
    "    model.add(Dense(3, activation='softmax'))\n",
    "    model.compile(\n",
    "        loss='categorical_crossentropy',\n",
    "        optimizer=optimizers.Adam(lr=params['lr']),\n",
    "        metrics=['accuracy'])\n",
    "\n",
    "    # fit model\n",
    "    hist = model.fit(X_t, y_t, \n",
    "                     validation_data=[x_val, y_val], \n",
    "                     batch_size=params['batch_size'], \n",
    "                     epochs=params['epochs'], \n",
    "                     verbose=0)\n",
    "\n",
    "    return hist, model"
   ]
  },
  {
   "cell_type": "markdown",
   "metadata": {},
   "source": [
    "# Grid Search\n",
    "\n",
    "There are a ton of hyperparameters to tune, and this is a cutting-edge area, so there are no hard and fast rules as of yet. In order to sift through the possibilities, we'll use a grid search library for Keras called Talos.\n",
    "\n",
    "Because training takes such a long time, we'll focus in on the most important parameters specified in this tuning write-up: https://towardsdatascience.com/a-walkthrough-of-convolutional-neural-network-7f474f91d7bd"
   ]
  },
  {
   "cell_type": "code",
   "execution_count": 86,
   "metadata": {},
   "outputs": [],
   "source": [
    "p = {\n",
    "    'lr': [.01, .001, .0001],\n",
    "    'batch_size': [16, 64, 128],\n",
    "    'epochs': [15, 50]\n",
    "}"
   ]
  },
  {
   "cell_type": "code",
   "execution_count": 85,
   "metadata": {},
   "outputs": [
    {
     "name": "stderr",
     "output_type": "stream",
     "text": [
      "\n",
      "\n",
      "\n",
      "\n",
      "\n",
      "\n",
      "  0%|          | 0/18 [00:00<?, ?it/s]\u001b[A\u001b[A\u001b[A\u001b[A\u001b[A\u001b[A\n",
      "\n",
      "\n",
      "\n",
      "\n",
      "\n",
      "  6%|▌         | 1/18 [01:14<21:09, 74.70s/it]\u001b[A\u001b[A\u001b[A\u001b[A\u001b[A\u001b[A\n",
      "\n",
      "\n",
      "\n",
      "\n",
      "\n",
      " 11%|█         | 2/18 [03:38<25:26, 95.40s/it]\u001b[A\u001b[A\u001b[A\u001b[A\u001b[A\u001b[A\n",
      "\n",
      "\n",
      "\n",
      "\n",
      "\n",
      " 17%|█▋        | 3/18 [08:18<37:42, 150.84s/it]\u001b[A\u001b[A\u001b[A\u001b[A\u001b[A\u001b[A\n",
      "\n",
      "\n",
      "\n",
      "\n",
      "\n",
      " 22%|██▏       | 4/18 [09:44<30:39, 131.42s/it]\u001b[A\u001b[A\u001b[A\u001b[A\u001b[A\u001b[A\n",
      "\n",
      "\n",
      "\n",
      "\n",
      "\n",
      " 28%|██▊       | 5/18 [17:47<51:17, 236.72s/it]\u001b[A\u001b[A\u001b[A\u001b[A\u001b[A\u001b[A\n",
      "\n",
      "\n",
      "\n",
      "\n",
      "\n",
      " 33%|███▎      | 6/18 [19:23<38:56, 194.67s/it]\u001b[A\u001b[A\u001b[A\u001b[A\u001b[A\u001b[A\n",
      "\n",
      "\n",
      "\n",
      "\n",
      "\n",
      " 39%|███▉      | 7/18 [21:54<33:17, 181.55s/it]\u001b[A\u001b[A\u001b[A\u001b[A\u001b[A\u001b[A\n",
      "\n",
      "\n",
      "\n",
      "\n",
      "\n",
      " 44%|████▍     | 8/18 [23:23<25:37, 153.80s/it]\u001b[A\u001b[A\u001b[A\u001b[A\u001b[A\u001b[A\n",
      "\n",
      "\n",
      "\n",
      "\n",
      "\n",
      " 50%|█████     | 9/18 [28:09<28:59, 193.33s/it]\u001b[A\u001b[A\u001b[A\u001b[A\u001b[A\u001b[A\n",
      "\n",
      "\n",
      "\n",
      "\n",
      "\n",
      " 56%|█████▌    | 10/18 [29:27<21:11, 158.92s/it]\u001b[A\u001b[A\u001b[A\u001b[A\u001b[A\u001b[A\n",
      "\n",
      "\n",
      "\n",
      "\n",
      "\n",
      " 61%|██████    | 11/18 [34:23<23:19, 199.88s/it]\u001b[A\u001b[A\u001b[A\u001b[A\u001b[A\u001b[A\n",
      "\n",
      "\n",
      "\n",
      "\n",
      "\n",
      " 67%|██████▋   | 12/18 [38:24<21:13, 212.32s/it]\u001b[A\u001b[A\u001b[A\u001b[A\u001b[A\u001b[A\n",
      "\n",
      "\n",
      "\n",
      "\n",
      "\n",
      " 72%|███████▏  | 13/18 [42:27<18:27, 221.55s/it]\u001b[A\u001b[A\u001b[A\u001b[A\u001b[A\u001b[A\n",
      "\n",
      "\n",
      "\n",
      "\n",
      "\n",
      " 78%|███████▊  | 14/18 [50:56<20:30, 307.63s/it]\u001b[A\u001b[A\u001b[A\u001b[A\u001b[A\u001b[A\n",
      "\n",
      "\n",
      "\n",
      "\n",
      "\n",
      " 83%|████████▎ | 15/18 [59:48<18:44, 374.92s/it]\u001b[A\u001b[A\u001b[A\u001b[A\u001b[A\u001b[A\n",
      "\n",
      "\n",
      "\n",
      "\n",
      "\n",
      " 89%|████████▉ | 16/18 [1:04:03<11:18, 339.13s/it]\u001b[A\u001b[A\u001b[A\u001b[A\u001b[A\u001b[A\n",
      "\n",
      "\n",
      "\n",
      "\n",
      "\n",
      " 94%|█████████▍| 17/18 [1:06:52<04:48, 288.14s/it]\u001b[A\u001b[A\u001b[A\u001b[A\u001b[A\u001b[A\n",
      "\n",
      "\n",
      "\n",
      "\n",
      "\n",
      "100%|██████████| 18/18 [1:08:10<00:00, 225.04s/it]\u001b[A\u001b[A\u001b[A\u001b[A\u001b[A\u001b[A\n",
      "\n",
      "\n",
      "\n",
      "\n",
      "\n",
      "\u001b[A\u001b[A\u001b[A\u001b[A\u001b[A\u001b[A"
     ]
    },
    {
     "name": "stdout",
     "output_type": "stream",
     "text": [
      "Scan Finished!\n"
     ]
    }
   ],
   "source": [
    "t = ta.Scan(x=X_t,\n",
    "            y=y_t,\n",
    "            x_val=X_te,\n",
    "            y_val=y_te,\n",
    "            model=news_conv_model,\n",
    "            params=p,\n",
    "            val_split=.1,\n",
    "            dataset_name='news_nlp',\n",
    "            experiment_no='2')"
   ]
  },
  {
   "cell_type": "markdown",
   "metadata": {},
   "source": [
    "# Evaluate\n",
    "\n",
    "That took forever! Let's see what the best combination of hyperparameters was."
   ]
  },
  {
   "cell_type": "code",
   "execution_count": 87,
   "metadata": {},
   "outputs": [],
   "source": [
    "r = ta.Reporting(\"news_nlp_2.csv\")"
   ]
  },
  {
   "cell_type": "code",
   "execution_count": 96,
   "metadata": {},
   "outputs": [
    {
     "data": {
      "text/html": [
       "<div>\n",
       "<style scoped>\n",
       "    .dataframe tbody tr th:only-of-type {\n",
       "        vertical-align: middle;\n",
       "    }\n",
       "\n",
       "    .dataframe tbody tr th {\n",
       "        vertical-align: top;\n",
       "    }\n",
       "\n",
       "    .dataframe thead th {\n",
       "        text-align: right;\n",
       "    }\n",
       "</style>\n",
       "<table border=\"1\" class=\"dataframe\">\n",
       "  <thead>\n",
       "    <tr style=\"text-align: right;\">\n",
       "      <th></th>\n",
       "      <th>round_epochs</th>\n",
       "      <th>val_loss</th>\n",
       "      <th>val_acc</th>\n",
       "      <th>loss</th>\n",
       "      <th>acc</th>\n",
       "      <th>lr</th>\n",
       "      <th>batch_size</th>\n",
       "      <th>epochs</th>\n",
       "    </tr>\n",
       "  </thead>\n",
       "  <tbody>\n",
       "    <tr>\n",
       "      <th>7</th>\n",
       "      <td>15</td>\n",
       "      <td>0.498237</td>\n",
       "      <td>0.795907</td>\n",
       "      <td>0.313061</td>\n",
       "      <td>0.869381</td>\n",
       "      <td>0.0010</td>\n",
       "      <td>64</td>\n",
       "      <td>15</td>\n",
       "    </tr>\n",
       "    <tr>\n",
       "      <th>15</th>\n",
       "      <td>50</td>\n",
       "      <td>0.489061</td>\n",
       "      <td>0.795623</td>\n",
       "      <td>0.148945</td>\n",
       "      <td>0.938339</td>\n",
       "      <td>0.0010</td>\n",
       "      <td>128</td>\n",
       "      <td>50</td>\n",
       "    </tr>\n",
       "    <tr>\n",
       "      <th>16</th>\n",
       "      <td>15</td>\n",
       "      <td>0.489057</td>\n",
       "      <td>0.792780</td>\n",
       "      <td>0.317923</td>\n",
       "      <td>0.866601</td>\n",
       "      <td>0.0010</td>\n",
       "      <td>16</td>\n",
       "      <td>15</td>\n",
       "    </tr>\n",
       "    <tr>\n",
       "      <th>4</th>\n",
       "      <td>50</td>\n",
       "      <td>0.507717</td>\n",
       "      <td>0.792780</td>\n",
       "      <td>0.241219</td>\n",
       "      <td>0.900749</td>\n",
       "      <td>0.0001</td>\n",
       "      <td>16</td>\n",
       "      <td>50</td>\n",
       "    </tr>\n",
       "    <tr>\n",
       "      <th>11</th>\n",
       "      <td>50</td>\n",
       "      <td>0.501958</td>\n",
       "      <td>0.791927</td>\n",
       "      <td>0.380615</td>\n",
       "      <td>0.839404</td>\n",
       "      <td>0.0001</td>\n",
       "      <td>128</td>\n",
       "      <td>50</td>\n",
       "    </tr>\n",
       "    <tr>\n",
       "      <th>13</th>\n",
       "      <td>50</td>\n",
       "      <td>0.491914</td>\n",
       "      <td>0.790222</td>\n",
       "      <td>0.155028</td>\n",
       "      <td>0.936728</td>\n",
       "      <td>0.0010</td>\n",
       "      <td>16</td>\n",
       "      <td>50</td>\n",
       "    </tr>\n",
       "    <tr>\n",
       "      <th>0</th>\n",
       "      <td>15</td>\n",
       "      <td>0.500350</td>\n",
       "      <td>0.788800</td>\n",
       "      <td>0.327321</td>\n",
       "      <td>0.861073</td>\n",
       "      <td>0.0010</td>\n",
       "      <td>128</td>\n",
       "      <td>15</td>\n",
       "    </tr>\n",
       "    <tr>\n",
       "      <th>10</th>\n",
       "      <td>50</td>\n",
       "      <td>0.516418</td>\n",
       "      <td>0.787379</td>\n",
       "      <td>0.317263</td>\n",
       "      <td>0.867897</td>\n",
       "      <td>0.0001</td>\n",
       "      <td>64</td>\n",
       "      <td>50</td>\n",
       "    </tr>\n",
       "    <tr>\n",
       "      <th>8</th>\n",
       "      <td>50</td>\n",
       "      <td>0.493342</td>\n",
       "      <td>0.783968</td>\n",
       "      <td>0.144611</td>\n",
       "      <td>0.941150</td>\n",
       "      <td>0.0010</td>\n",
       "      <td>64</td>\n",
       "      <td>50</td>\n",
       "    </tr>\n",
       "    <tr>\n",
       "      <th>6</th>\n",
       "      <td>15</td>\n",
       "      <td>0.500750</td>\n",
       "      <td>0.780841</td>\n",
       "      <td>0.425382</td>\n",
       "      <td>0.817639</td>\n",
       "      <td>0.0001</td>\n",
       "      <td>16</td>\n",
       "      <td>15</td>\n",
       "    </tr>\n",
       "    <tr>\n",
       "      <th>12</th>\n",
       "      <td>50</td>\n",
       "      <td>0.506300</td>\n",
       "      <td>0.780557</td>\n",
       "      <td>0.345379</td>\n",
       "      <td>0.849544</td>\n",
       "      <td>0.0100</td>\n",
       "      <td>128</td>\n",
       "      <td>50</td>\n",
       "    </tr>\n",
       "    <tr>\n",
       "      <th>2</th>\n",
       "      <td>50</td>\n",
       "      <td>0.536431</td>\n",
       "      <td>0.778283</td>\n",
       "      <td>0.446077</td>\n",
       "      <td>0.801497</td>\n",
       "      <td>0.0100</td>\n",
       "      <td>64</td>\n",
       "      <td>50</td>\n",
       "    </tr>\n",
       "    <tr>\n",
       "      <th>9</th>\n",
       "      <td>15</td>\n",
       "      <td>0.522928</td>\n",
       "      <td>0.775441</td>\n",
       "      <td>0.451286</td>\n",
       "      <td>0.804814</td>\n",
       "      <td>0.0100</td>\n",
       "      <td>128</td>\n",
       "      <td>15</td>\n",
       "    </tr>\n",
       "    <tr>\n",
       "      <th>3</th>\n",
       "      <td>15</td>\n",
       "      <td>0.546957</td>\n",
       "      <td>0.772314</td>\n",
       "      <td>0.523267</td>\n",
       "      <td>0.774047</td>\n",
       "      <td>0.0100</td>\n",
       "      <td>64</td>\n",
       "      <td>15</td>\n",
       "    </tr>\n",
       "    <tr>\n",
       "      <th>5</th>\n",
       "      <td>15</td>\n",
       "      <td>0.522824</td>\n",
       "      <td>0.764639</td>\n",
       "      <td>0.491769</td>\n",
       "      <td>0.787030</td>\n",
       "      <td>0.0001</td>\n",
       "      <td>64</td>\n",
       "      <td>15</td>\n",
       "    </tr>\n",
       "    <tr>\n",
       "      <th>17</th>\n",
       "      <td>15</td>\n",
       "      <td>0.534451</td>\n",
       "      <td>0.758954</td>\n",
       "      <td>0.535212</td>\n",
       "      <td>0.769466</td>\n",
       "      <td>0.0001</td>\n",
       "      <td>128</td>\n",
       "      <td>15</td>\n",
       "    </tr>\n",
       "    <tr>\n",
       "      <th>1</th>\n",
       "      <td>15</td>\n",
       "      <td>0.722612</td>\n",
       "      <td>0.641558</td>\n",
       "      <td>0.753022</td>\n",
       "      <td>0.595761</td>\n",
       "      <td>0.0100</td>\n",
       "      <td>16</td>\n",
       "      <td>15</td>\n",
       "    </tr>\n",
       "    <tr>\n",
       "      <th>14</th>\n",
       "      <td>50</td>\n",
       "      <td>0.684616</td>\n",
       "      <td>0.613985</td>\n",
       "      <td>0.707395</td>\n",
       "      <td>0.604985</td>\n",
       "      <td>0.0100</td>\n",
       "      <td>16</td>\n",
       "      <td>50</td>\n",
       "    </tr>\n",
       "  </tbody>\n",
       "</table>\n",
       "</div>"
      ],
      "text/plain": [
       "    round_epochs  val_loss   val_acc      loss       acc      lr  batch_size  \\\n",
       "7             15  0.498237  0.795907  0.313061  0.869381  0.0010          64   \n",
       "15            50  0.489061  0.795623  0.148945  0.938339  0.0010         128   \n",
       "16            15  0.489057  0.792780  0.317923  0.866601  0.0010          16   \n",
       "4             50  0.507717  0.792780  0.241219  0.900749  0.0001          16   \n",
       "11            50  0.501958  0.791927  0.380615  0.839404  0.0001         128   \n",
       "13            50  0.491914  0.790222  0.155028  0.936728  0.0010          16   \n",
       "0             15  0.500350  0.788800  0.327321  0.861073  0.0010         128   \n",
       "10            50  0.516418  0.787379  0.317263  0.867897  0.0001          64   \n",
       "8             50  0.493342  0.783968  0.144611  0.941150  0.0010          64   \n",
       "6             15  0.500750  0.780841  0.425382  0.817639  0.0001          16   \n",
       "12            50  0.506300  0.780557  0.345379  0.849544  0.0100         128   \n",
       "2             50  0.536431  0.778283  0.446077  0.801497  0.0100          64   \n",
       "9             15  0.522928  0.775441  0.451286  0.804814  0.0100         128   \n",
       "3             15  0.546957  0.772314  0.523267  0.774047  0.0100          64   \n",
       "5             15  0.522824  0.764639  0.491769  0.787030  0.0001          64   \n",
       "17            15  0.534451  0.758954  0.535212  0.769466  0.0001         128   \n",
       "1             15  0.722612  0.641558  0.753022  0.595761  0.0100          16   \n",
       "14            50  0.684616  0.613985  0.707395  0.604985  0.0100          16   \n",
       "\n",
       "    epochs  \n",
       "7       15  \n",
       "15      50  \n",
       "16      15  \n",
       "4       50  \n",
       "11      50  \n",
       "13      50  \n",
       "0       15  \n",
       "10      50  \n",
       "8       50  \n",
       "6       15  \n",
       "12      50  \n",
       "2       50  \n",
       "9       15  \n",
       "3       15  \n",
       "5       15  \n",
       "17      15  \n",
       "1       15  \n",
       "14      50  "
      ]
     },
     "execution_count": 96,
     "metadata": {},
     "output_type": "execute_result"
    }
   ],
   "source": [
    "r.data.sort_values('val_acc', ascending=False)"
   ]
  },
  {
   "cell_type": "code",
   "execution_count": 97,
   "metadata": {},
   "outputs": [
    {
     "data": {
      "image/png": "[encoded data removed]",
      "text/plain": [
       "<Figure size 720x475.2 with 1 Axes>"
      ]
     },
     "metadata": {},
     "output_type": "display_data"
    }
   ],
   "source": [
    "r.plot_regs()"
   ]
  },
  {
   "cell_type": "code",
   "execution_count": 98,
   "metadata": {},
   "outputs": [
    {
     "data": {
      "image/png": "[encoded data removed]",
      "text/plain": [
       "<Figure size 864x475.2 with 1 Axes>"
      ]
     },
     "metadata": {},
     "output_type": "display_data"
    }
   ],
   "source": [
    "r.plot_line()"
   ]
  },
  {
   "cell_type": "code",
   "execution_count": 99,
   "metadata": {},
   "outputs": [
    {
     "data": {
      "image/png": "[encoded data removed]",
      "text/plain": [
       "<Figure size 720x475.2 with 1 Axes>"
      ]
     },
     "metadata": {},
     "output_type": "display_data"
    }
   ],
   "source": [
    "r.plot_kde('val_acc')"
   ]
  },
  {
   "cell_type": "code",
   "execution_count": 100,
   "metadata": {},
   "outputs": [
    {
     "data": {
      "image/png": "[encoded data removed]",
      "text/plain": [
       "<Figure size 720x475.2 with 1 Axes>"
      ]
     },
     "metadata": {},
     "output_type": "display_data"
    }
   ],
   "source": [
    "r.plot_hist(bins=50)"
   ]
  },
  {
   "cell_type": "code",
   "execution_count": 101,
   "metadata": {},
   "outputs": [
    {
     "data": {
      "image/png": "[encoded data removed]",
      "text/plain": [
       "<Figure size 540x540 with 2 Axes>"
      ]
     },
     "metadata": {},
     "output_type": "display_data"
    }
   ],
   "source": [
    "r.plot_corr()"
   ]
  },
  {
   "cell_type": "code",
   "execution_count": 103,
   "metadata": {},
   "outputs": [
    {
     "data": {
      "image/png": "[encoded data removed]",
      "text/plain": [
       "<Figure size 1227.38x288 with 2 Axes>"
      ]
     },
     "metadata": {},
     "output_type": "display_data"
    }
   ],
   "source": [
    "r.plot_bars('lr', 'val_acc', 'batch_size', 'epochs')"
   ]
  },
  {
   "cell_type": "markdown",
   "metadata": {},
   "source": [
    "# Conclusion\n",
    "\n"
   ]
  }
 ],
 "metadata": {
  "kernelspec": {
   "display_name": "Python 3",
   "language": "python",
   "name": "python3"
  },
  "language_info": {
   "codemirror_mode": {
    "name": "ipython",
    "version": 3
   },
   "file_extension": ".py",
   "mimetype": "text/x-python",
   "name": "python",
   "nbconvert_exporter": "python",
   "pygments_lexer": "ipython3",
   "version": "3.6.8"
  }
 },
 "nbformat": 4,
 "nbformat_minor": 2
}

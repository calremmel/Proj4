{
 "cells": [
  {
   "cell_type": "markdown",
   "metadata": {},
   "source": [
    "I love reading The Onion. The brilliant snark of their universally caustic takes on politics and everyday life make me feel less alone in reacting to the utter bizarreness of modern life.\n",
    "\n",
    "It is a reflection of the weirdness of our reality that Onion headlines so frequently get mistaken for real ones. There are plenty of stories about celebrities, politicians, and other public figures getting fooled by and inciting outrage over stories that in hindsight seem like they would be too obviously absurd to be taken seriously. But are they? Could an algorithm tell the difference?\n",
    "\n",
    "In this project, I'll be tackling just that question."
   ]
  },
  {
   "cell_type": "code",
   "execution_count": 1,
   "metadata": {},
   "outputs": [],
   "source": [
    "import pandas as pd\n",
    "import numpy as np\n",
    "import matplotlib.pyplot as plt\n",
    "\n",
    "%matplotlib inline"
   ]
  },
  {
   "cell_type": "markdown",
   "metadata": {},
   "source": [
    "# Obtain"
   ]
  },
  {
   "cell_type": "markdown",
   "metadata": {},
   "source": [
    "First, we need a source of these headlines. As a seed, I'll be using a collection of headlines from The Onion and the Huffington Post. These were collected for sarcasm classification. I have some qualms with the appropriateness of this data for that purpose -- it is not entirely clear to me or I think to anyone that sarcasm and satire/parody are the same thing. Perhaps there is some intersection, but the line is fuzzy. Still, for *our* purposes, this is a good dataset."
   ]
  },
  {
   "cell_type": "code",
   "execution_count": 2,
   "metadata": {},
   "outputs": [],
   "source": [
    "sarcasm = pd.read_json('../data/raw/Sarcasm_Headlines_Dataset.json', lines=True)"
   ]
  },
  {
   "cell_type": "code",
   "execution_count": 3,
   "metadata": {},
   "outputs": [
    {
     "data": {
      "text/html": [
       "<div>\n",
       "<style scoped>\n",
       "    .dataframe tbody tr th:only-of-type {\n",
       "        vertical-align: middle;\n",
       "    }\n",
       "\n",
       "    .dataframe tbody tr th {\n",
       "        vertical-align: top;\n",
       "    }\n",
       "\n",
       "    .dataframe thead th {\n",
       "        text-align: right;\n",
       "    }\n",
       "</style>\n",
       "<table border=\"1\" class=\"dataframe\">\n",
       "  <thead>\n",
       "    <tr style=\"text-align: right;\">\n",
       "      <th></th>\n",
       "      <th>article_link</th>\n",
       "      <th>headline</th>\n",
       "      <th>is_sarcastic</th>\n",
       "    </tr>\n",
       "  </thead>\n",
       "  <tbody>\n",
       "    <tr>\n",
       "      <th>0</th>\n",
       "      <td>https://www.huffingtonpost.com/entry/versace-b...</td>\n",
       "      <td>former versace store clerk sues over secret 'b...</td>\n",
       "      <td>0</td>\n",
       "    </tr>\n",
       "    <tr>\n",
       "      <th>1</th>\n",
       "      <td>https://www.huffingtonpost.com/entry/roseanne-...</td>\n",
       "      <td>the 'roseanne' revival catches up to our thorn...</td>\n",
       "      <td>0</td>\n",
       "    </tr>\n",
       "    <tr>\n",
       "      <th>2</th>\n",
       "      <td>https://local.theonion.com/mom-starting-to-fea...</td>\n",
       "      <td>mom starting to fear son's web series closest ...</td>\n",
       "      <td>1</td>\n",
       "    </tr>\n",
       "    <tr>\n",
       "      <th>3</th>\n",
       "      <td>https://politics.theonion.com/boehner-just-wan...</td>\n",
       "      <td>boehner just wants wife to listen, not come up...</td>\n",
       "      <td>1</td>\n",
       "    </tr>\n",
       "    <tr>\n",
       "      <th>4</th>\n",
       "      <td>https://www.huffingtonpost.com/entry/jk-rowlin...</td>\n",
       "      <td>j.k. rowling wishes snape happy birthday in th...</td>\n",
       "      <td>0</td>\n",
       "    </tr>\n",
       "  </tbody>\n",
       "</table>\n",
       "</div>"
      ],
      "text/plain": [
       "                                        article_link  \\\n",
       "0  https://www.huffingtonpost.com/entry/versace-b...   \n",
       "1  https://www.huffingtonpost.com/entry/roseanne-...   \n",
       "2  https://local.theonion.com/mom-starting-to-fea...   \n",
       "3  https://politics.theonion.com/boehner-just-wan...   \n",
       "4  https://www.huffingtonpost.com/entry/jk-rowlin...   \n",
       "\n",
       "                                            headline  is_sarcastic  \n",
       "0  former versace store clerk sues over secret 'b...             0  \n",
       "1  the 'roseanne' revival catches up to our thorn...             0  \n",
       "2  mom starting to fear son's web series closest ...             1  \n",
       "3  boehner just wants wife to listen, not come up...             1  \n",
       "4  j.k. rowling wishes snape happy birthday in th...             0  "
      ]
     },
     "execution_count": 3,
     "metadata": {},
     "output_type": "execute_result"
    }
   ],
   "source": [
    "sarcasm.head()"
   ]
  },
  {
   "cell_type": "code",
   "execution_count": 4,
   "metadata": {},
   "outputs": [
    {
     "name": "stdout",
     "output_type": "stream",
     "text": [
      "<class 'pandas.core.frame.DataFrame'>\n",
      "RangeIndex: 26709 entries, 0 to 26708\n",
      "Data columns (total 3 columns):\n",
      "article_link    26709 non-null object\n",
      "headline        26709 non-null object\n",
      "is_sarcastic    26709 non-null int64\n",
      "dtypes: int64(1), object(2)\n",
      "memory usage: 626.1+ KB\n"
     ]
    }
   ],
   "source": [
    "sarcasm.info()"
   ]
  },
  {
   "cell_type": "code",
   "execution_count": 5,
   "metadata": {},
   "outputs": [
    {
     "data": {
      "text/plain": [
       "0    14985\n",
       "1    11724\n",
       "Name: is_sarcastic, dtype: int64"
      ]
     },
     "execution_count": 5,
     "metadata": {},
     "output_type": "execute_result"
    }
   ],
   "source": [
    "sarcasm['is_sarcastic'].value_counts()"
   ]
  },
  {
   "cell_type": "markdown",
   "metadata": {},
   "source": [
    "This is promising. We have rows with the article link and lowercased headline, and whether a headline is 'sarcastic' or not. I don't believe that sarcastic is a good way to characterize this, so I'll just alter that for my own happiness."
   ]
  },
  {
   "cell_type": "code",
   "execution_count": 6,
   "metadata": {},
   "outputs": [
    {
     "data": {
      "text/html": [
       "<div>\n",
       "<style scoped>\n",
       "    .dataframe tbody tr th:only-of-type {\n",
       "        vertical-align: middle;\n",
       "    }\n",
       "\n",
       "    .dataframe tbody tr th {\n",
       "        vertical-align: top;\n",
       "    }\n",
       "\n",
       "    .dataframe thead th {\n",
       "        text-align: right;\n",
       "    }\n",
       "</style>\n",
       "<table border=\"1\" class=\"dataframe\">\n",
       "  <thead>\n",
       "    <tr style=\"text-align: right;\">\n",
       "      <th></th>\n",
       "      <th>article_link</th>\n",
       "      <th>headline</th>\n",
       "      <th>is_parody</th>\n",
       "    </tr>\n",
       "  </thead>\n",
       "  <tbody>\n",
       "    <tr>\n",
       "      <th>0</th>\n",
       "      <td>https://www.huffingtonpost.com/entry/versace-b...</td>\n",
       "      <td>former versace store clerk sues over secret 'b...</td>\n",
       "      <td>0</td>\n",
       "    </tr>\n",
       "    <tr>\n",
       "      <th>1</th>\n",
       "      <td>https://www.huffingtonpost.com/entry/roseanne-...</td>\n",
       "      <td>the 'roseanne' revival catches up to our thorn...</td>\n",
       "      <td>0</td>\n",
       "    </tr>\n",
       "    <tr>\n",
       "      <th>2</th>\n",
       "      <td>https://local.theonion.com/mom-starting-to-fea...</td>\n",
       "      <td>mom starting to fear son's web series closest ...</td>\n",
       "      <td>1</td>\n",
       "    </tr>\n",
       "    <tr>\n",
       "      <th>3</th>\n",
       "      <td>https://politics.theonion.com/boehner-just-wan...</td>\n",
       "      <td>boehner just wants wife to listen, not come up...</td>\n",
       "      <td>1</td>\n",
       "    </tr>\n",
       "    <tr>\n",
       "      <th>4</th>\n",
       "      <td>https://www.huffingtonpost.com/entry/jk-rowlin...</td>\n",
       "      <td>j.k. rowling wishes snape happy birthday in th...</td>\n",
       "      <td>0</td>\n",
       "    </tr>\n",
       "  </tbody>\n",
       "</table>\n",
       "</div>"
      ],
      "text/plain": [
       "                                        article_link  \\\n",
       "0  https://www.huffingtonpost.com/entry/versace-b...   \n",
       "1  https://www.huffingtonpost.com/entry/roseanne-...   \n",
       "2  https://local.theonion.com/mom-starting-to-fea...   \n",
       "3  https://politics.theonion.com/boehner-just-wan...   \n",
       "4  https://www.huffingtonpost.com/entry/jk-rowlin...   \n",
       "\n",
       "                                            headline  is_parody  \n",
       "0  former versace store clerk sues over secret 'b...          0  \n",
       "1  the 'roseanne' revival catches up to our thorn...          0  \n",
       "2  mom starting to fear son's web series closest ...          1  \n",
       "3  boehner just wants wife to listen, not come up...          1  \n",
       "4  j.k. rowling wishes snape happy birthday in th...          0  "
      ]
     },
     "execution_count": 6,
     "metadata": {},
     "output_type": "execute_result"
    }
   ],
   "source": [
    "sarcasm.columns = ['article_link', 'headline', 'is_parody']\n",
    "sarcasm.head()"
   ]
  },
  {
   "cell_type": "markdown",
   "metadata": {},
   "source": [
    "I know from some previous exploration that this dataset includes some articles that are linked through the Huffington Post, but not from the Huffington Post. Some of these might be parody articles themselves, and so might be miscoded. Let's make sure."
   ]
  },
  {
   "cell_type": "code",
   "execution_count": 7,
   "metadata": {},
   "outputs": [
    {
     "data": {
      "text/html": [
       "<div>\n",
       "<style scoped>\n",
       "    .dataframe tbody tr th:only-of-type {\n",
       "        vertical-align: middle;\n",
       "    }\n",
       "\n",
       "    .dataframe tbody tr th {\n",
       "        vertical-align: top;\n",
       "    }\n",
       "\n",
       "    .dataframe thead th {\n",
       "        text-align: right;\n",
       "    }\n",
       "</style>\n",
       "<table border=\"1\" class=\"dataframe\">\n",
       "  <thead>\n",
       "    <tr style=\"text-align: right;\">\n",
       "      <th></th>\n",
       "      <th>article_link</th>\n",
       "      <th>headline</th>\n",
       "      <th>is_parody</th>\n",
       "    </tr>\n",
       "  </thead>\n",
       "  <tbody>\n",
       "    <tr>\n",
       "      <th>12</th>\n",
       "      <td>https://www.huffingtonpost.comhttp://www.thegu...</td>\n",
       "      <td>north korea praises trump and urges us voters ...</td>\n",
       "      <td>0</td>\n",
       "    </tr>\n",
       "    <tr>\n",
       "      <th>23</th>\n",
       "      <td>https://www.huffingtonpost.comhttp://pubx.co/d...</td>\n",
       "      <td>this is why you shouldn't go to the circus</td>\n",
       "      <td>0</td>\n",
       "    </tr>\n",
       "    <tr>\n",
       "      <th>54</th>\n",
       "      <td>https://www.huffingtonpost.comhttp://www.wsj.c...</td>\n",
       "      <td>donald trump wouldn't have had the ready cash ...</td>\n",
       "      <td>0</td>\n",
       "    </tr>\n",
       "    <tr>\n",
       "      <th>131</th>\n",
       "      <td>https://www.huffingtonpost.comhttp://www.balti...</td>\n",
       "      <td>councilman calls on baltimore rappers to inspi...</td>\n",
       "      <td>0</td>\n",
       "    </tr>\n",
       "    <tr>\n",
       "      <th>159</th>\n",
       "      <td>https://www.huffingtonpost.comhttps://www.wash...</td>\n",
       "      <td>megyn kelly on donald trump: 'i have done my l...</td>\n",
       "      <td>0</td>\n",
       "    </tr>\n",
       "    <tr>\n",
       "      <th>166</th>\n",
       "      <td>https://www.huffingtonpost.comhttp://baltimore...</td>\n",
       "      <td>'the wire' cast reunited in baltimore to uplif...</td>\n",
       "      <td>0</td>\n",
       "    </tr>\n",
       "    <tr>\n",
       "      <th>175</th>\n",
       "      <td>https://www.huffingtonpost.comhttps://www.wash...</td>\n",
       "      <td>donald trump's assault on our values</td>\n",
       "      <td>0</td>\n",
       "    </tr>\n",
       "    <tr>\n",
       "      <th>178</th>\n",
       "      <td>https://www.huffingtonpost.comhttp://www.polit...</td>\n",
       "      <td>gop senators aren't ready to accept trump as t...</td>\n",
       "      <td>0</td>\n",
       "    </tr>\n",
       "    <tr>\n",
       "      <th>216</th>\n",
       "      <td>https://www.huffingtonpost.comhttp://pubx.co/i...</td>\n",
       "      <td>rubio supporters get in a scuffle with a 'rubi...</td>\n",
       "      <td>0</td>\n",
       "    </tr>\n",
       "    <tr>\n",
       "      <th>395</th>\n",
       "      <td>https://www.huffingtonpost.comhttp://pubx.co/V...</td>\n",
       "      <td>rescued lion has been obsessed with blankets s...</td>\n",
       "      <td>0</td>\n",
       "    </tr>\n",
       "    <tr>\n",
       "      <th>416</th>\n",
       "      <td>https://www.huffingtonpost.comhttp://magazine....</td>\n",
       "      <td>breaking uniform</td>\n",
       "      <td>0</td>\n",
       "    </tr>\n",
       "    <tr>\n",
       "      <th>436</th>\n",
       "      <td>https://www.huffingtonpost.comhttps://www.wash...</td>\n",
       "      <td>military prosecutor: senate report on cia inte...</td>\n",
       "      <td>0</td>\n",
       "    </tr>\n",
       "    <tr>\n",
       "      <th>517</th>\n",
       "      <td>https://www.huffingtonpost.comhttp://www.huffi...</td>\n",
       "      <td>social unity is most important, says pm modi o...</td>\n",
       "      <td>0</td>\n",
       "    </tr>\n",
       "    <tr>\n",
       "      <th>521</th>\n",
       "      <td>https://www.huffingtonpost.comhttp://www.polit...</td>\n",
       "      <td>dreamers face nightmare of trump's deportation...</td>\n",
       "      <td>0</td>\n",
       "    </tr>\n",
       "    <tr>\n",
       "      <th>542</th>\n",
       "      <td>https://www.huffingtonpost.comhttp://thehill.c...</td>\n",
       "      <td>koch network spent nearly $400 million in 2015</td>\n",
       "      <td>0</td>\n",
       "    </tr>\n",
       "    <tr>\n",
       "      <th>571</th>\n",
       "      <td>https://www.huffingtonpost.comhttp://thinkprog...</td>\n",
       "      <td>the restrictions journalists agreed to in orde...</td>\n",
       "      <td>0</td>\n",
       "    </tr>\n",
       "    <tr>\n",
       "      <th>645</th>\n",
       "      <td>https://www.huffingtonpost.comhttp://www.polit...</td>\n",
       "      <td>sanders hits bill clinton on welfare reform, t...</td>\n",
       "      <td>0</td>\n",
       "    </tr>\n",
       "    <tr>\n",
       "      <th>677</th>\n",
       "      <td>https://www.huffingtonpost.comhttps://www.wash...</td>\n",
       "      <td>washington post journalist jailed in iran has ...</td>\n",
       "      <td>0</td>\n",
       "    </tr>\n",
       "    <tr>\n",
       "      <th>744</th>\n",
       "      <td>https://www.huffingtonpost.comhttp://www.holly...</td>\n",
       "      <td>bill henderson, jazz vocalist and actor, dies ...</td>\n",
       "      <td>0</td>\n",
       "    </tr>\n",
       "    <tr>\n",
       "      <th>780</th>\n",
       "      <td>https://www.huffingtonpost.comhttp://www.cheat...</td>\n",
       "      <td>5 longevity secrets from the world's healthies...</td>\n",
       "      <td>0</td>\n",
       "    </tr>\n",
       "    <tr>\n",
       "      <th>863</th>\n",
       "      <td>https://www.huffingtonpost.comhttp://live.huff...</td>\n",
       "      <td>how jimmy carter learned to make his wife rosa...</td>\n",
       "      <td>0</td>\n",
       "    </tr>\n",
       "    <tr>\n",
       "      <th>870</th>\n",
       "      <td>https://www.huffingtonpost.comhttp://www.capit...</td>\n",
       "      <td>bloomberg gadfly debuts in bid to shake-up fin...</td>\n",
       "      <td>0</td>\n",
       "    </tr>\n",
       "    <tr>\n",
       "      <th>950</th>\n",
       "      <td>https://www.huffingtonpost.comhttps://www.wash...</td>\n",
       "      <td>gop race heads to south carolina, known for di...</td>\n",
       "      <td>0</td>\n",
       "    </tr>\n",
       "    <tr>\n",
       "      <th>952</th>\n",
       "      <td>https://www.huffingtonpost.comhttps://www.wash...</td>\n",
       "      <td>george will trashes bill o'reilly: 'wise, he i...</td>\n",
       "      <td>0</td>\n",
       "    </tr>\n",
       "    <tr>\n",
       "      <th>954</th>\n",
       "      <td>https://www.huffingtonpost.comhttp://lifehacke...</td>\n",
       "      <td>the best ifttt recipes to make the most of you...</td>\n",
       "      <td>0</td>\n",
       "    </tr>\n",
       "    <tr>\n",
       "      <th>961</th>\n",
       "      <td>https://www.huffingtonpost.comhttp://pubx.co/N...</td>\n",
       "      <td>warm temperatures bring hot deals on winter gear</td>\n",
       "      <td>0</td>\n",
       "    </tr>\n",
       "    <tr>\n",
       "      <th>1181</th>\n",
       "      <td>https://www.huffingtonpost.comhttp://www.nytim...</td>\n",
       "      <td>nbc relocates 'nightly news' to trump tower, f...</td>\n",
       "      <td>0</td>\n",
       "    </tr>\n",
       "    <tr>\n",
       "      <th>1248</th>\n",
       "      <td>https://www.huffingtonpost.comhttp://www.polit...</td>\n",
       "      <td>meg whitman compares donald trump to hitler, m...</td>\n",
       "      <td>0</td>\n",
       "    </tr>\n",
       "    <tr>\n",
       "      <th>1599</th>\n",
       "      <td>https://www.huffingtonpost.comhttp://www.wsj.c...</td>\n",
       "      <td>zenefits once told employees: no sex in stairw...</td>\n",
       "      <td>0</td>\n",
       "    </tr>\n",
       "    <tr>\n",
       "      <th>1666</th>\n",
       "      <td>https://www.huffingtonpost.comhttp://www.popsu...</td>\n",
       "      <td>5 things you miss about married life as a divo...</td>\n",
       "      <td>0</td>\n",
       "    </tr>\n",
       "    <tr>\n",
       "      <th>...</th>\n",
       "      <td>...</td>\n",
       "      <td>...</td>\n",
       "      <td>...</td>\n",
       "    </tr>\n",
       "    <tr>\n",
       "      <th>25438</th>\n",
       "      <td>https://www.huffingtonpost.comhttp://www.nytim...</td>\n",
       "      <td>obama faces two unappealing choices on gitmo</td>\n",
       "      <td>0</td>\n",
       "    </tr>\n",
       "    <tr>\n",
       "      <th>25458</th>\n",
       "      <td>https://www.huffingtonpost.comhttp://www.billb...</td>\n",
       "      <td>prince rep has 'no knowledge' of jay z's repor...</td>\n",
       "      <td>0</td>\n",
       "    </tr>\n",
       "    <tr>\n",
       "      <th>25510</th>\n",
       "      <td>https://www.huffingtonpost.comhttp://rise.huff...</td>\n",
       "      <td>we learn our best lessons when we fail, accord...</td>\n",
       "      <td>0</td>\n",
       "    </tr>\n",
       "    <tr>\n",
       "      <th>25511</th>\n",
       "      <td>https://www.huffingtonpost.comhttp://www.times...</td>\n",
       "      <td>ex-israeli defense chief: netanyahu wanted to ...</td>\n",
       "      <td>0</td>\n",
       "    </tr>\n",
       "    <tr>\n",
       "      <th>25553</th>\n",
       "      <td>https://www.huffingtonpost.comhttps://www.prop...</td>\n",
       "      <td>how at&amp;t execs took over the red cross and hur...</td>\n",
       "      <td>0</td>\n",
       "    </tr>\n",
       "    <tr>\n",
       "      <th>25622</th>\n",
       "      <td>https://www.huffingtonpost.comhttp://www.thegu...</td>\n",
       "      <td>marc andreessen's 'colonialism' gaffe? a sympt...</td>\n",
       "      <td>0</td>\n",
       "    </tr>\n",
       "    <tr>\n",
       "      <th>25631</th>\n",
       "      <td>https://www.huffingtonpost.comhttp://traveler....</td>\n",
       "      <td>the best taxi and ride-hailing apps around the...</td>\n",
       "      <td>0</td>\n",
       "    </tr>\n",
       "    <tr>\n",
       "      <th>25789</th>\n",
       "      <td>https://www.huffingtonpost.comhttp://www.slate...</td>\n",
       "      <td>i am terrified of taking my child literally an...</td>\n",
       "      <td>0</td>\n",
       "    </tr>\n",
       "    <tr>\n",
       "      <th>25843</th>\n",
       "      <td>https://www.huffingtonpost.comhttp://live.huff...</td>\n",
       "      <td>watch live: william shatner discusses the life...</td>\n",
       "      <td>0</td>\n",
       "    </tr>\n",
       "    <tr>\n",
       "      <th>25863</th>\n",
       "      <td>https://www.huffingtonpost.comhttp://www.mothe...</td>\n",
       "      <td>on facebook, trump's longtime butler calls for...</td>\n",
       "      <td>0</td>\n",
       "    </tr>\n",
       "    <tr>\n",
       "      <th>25875</th>\n",
       "      <td>https://www.huffingtonpost.comhttp://www.npr.o...</td>\n",
       "      <td>how police chaplains help departments cope wit...</td>\n",
       "      <td>0</td>\n",
       "    </tr>\n",
       "    <tr>\n",
       "      <th>25910</th>\n",
       "      <td>https://www.huffingtonpost.comhttp://elections...</td>\n",
       "      <td>presidential primaries</td>\n",
       "      <td>0</td>\n",
       "    </tr>\n",
       "    <tr>\n",
       "      <th>25913</th>\n",
       "      <td>https://www.huffingtonpost.comhttp://www.thegu...</td>\n",
       "      <td>'from mid-range he could kill you': bernie san...</td>\n",
       "      <td>0</td>\n",
       "    </tr>\n",
       "    <tr>\n",
       "      <th>25921</th>\n",
       "      <td>https://www.huffingtonpost.comhttp://www.thewr...</td>\n",
       "      <td>20th century fox, paramount have no female dir...</td>\n",
       "      <td>0</td>\n",
       "    </tr>\n",
       "    <tr>\n",
       "      <th>25944</th>\n",
       "      <td>https://www.huffingtonpost.comhttp://www.cnn.c...</td>\n",
       "      <td>saudis snub obama on riyadh arrival amid growi...</td>\n",
       "      <td>0</td>\n",
       "    </tr>\n",
       "    <tr>\n",
       "      <th>25953</th>\n",
       "      <td>https://www.huffingtonpost.comhttp://fortune.c...</td>\n",
       "      <td>retirement savings actually fell over the past...</td>\n",
       "      <td>0</td>\n",
       "    </tr>\n",
       "    <tr>\n",
       "      <th>25991</th>\n",
       "      <td>https://www.huffingtonpost.comhttp://pubx.ch/1...</td>\n",
       "      <td>florida man sentenced for running over ducks w...</td>\n",
       "      <td>0</td>\n",
       "    </tr>\n",
       "    <tr>\n",
       "      <th>26023</th>\n",
       "      <td>https://www.huffingtonpost.comhttp://www.thegu...</td>\n",
       "      <td>america's decline in wages can be traced to ge...</td>\n",
       "      <td>0</td>\n",
       "    </tr>\n",
       "    <tr>\n",
       "      <th>26050</th>\n",
       "      <td>https://www.huffingtonpost.comhttp://thinkprog...</td>\n",
       "      <td>novelist obliterates the bundy militia — and o...</td>\n",
       "      <td>0</td>\n",
       "    </tr>\n",
       "    <tr>\n",
       "      <th>26106</th>\n",
       "      <td>https://www.huffingtonpost.comhttp://www.haare...</td>\n",
       "      <td>why hillary clinton is moving left on every is...</td>\n",
       "      <td>0</td>\n",
       "    </tr>\n",
       "    <tr>\n",
       "      <th>26198</th>\n",
       "      <td>https://www.huffingtonpost.comhttp://www.newno...</td>\n",
       "      <td>'steven universe' creator rebecca sugar on lgb...</td>\n",
       "      <td>0</td>\n",
       "    </tr>\n",
       "    <tr>\n",
       "      <th>26215</th>\n",
       "      <td>https://www.huffingtonpost.comhttp://bigstory....</td>\n",
       "      <td>poll: millennials more open to idea of slavery...</td>\n",
       "      <td>0</td>\n",
       "    </tr>\n",
       "    <tr>\n",
       "      <th>26233</th>\n",
       "      <td>https://www.huffingtonpost.comhttp://www.ibtim...</td>\n",
       "      <td>joe biden backed bills to make it harder for a...</td>\n",
       "      <td>0</td>\n",
       "    </tr>\n",
       "    <tr>\n",
       "      <th>26254</th>\n",
       "      <td>https://www.huffingtonpost.comhttps://broadly....</td>\n",
       "      <td>meet the trans woman who wants to change roman...</td>\n",
       "      <td>0</td>\n",
       "    </tr>\n",
       "    <tr>\n",
       "      <th>26276</th>\n",
       "      <td>https://www.huffingtonpost.comhttp://www.latim...</td>\n",
       "      <td>fbi arrests brother of san bernardino terroris...</td>\n",
       "      <td>0</td>\n",
       "    </tr>\n",
       "    <tr>\n",
       "      <th>26307</th>\n",
       "      <td>https://www.huffingtonpost.comhttp://www.nytim...</td>\n",
       "      <td>fired police chief, 2 other officers, sue for ...</td>\n",
       "      <td>0</td>\n",
       "    </tr>\n",
       "    <tr>\n",
       "      <th>26434</th>\n",
       "      <td>https://www.huffingtonpost.comhttps://www.thed...</td>\n",
       "      <td>dog picks out her own shelter kitten to take home</td>\n",
       "      <td>0</td>\n",
       "    </tr>\n",
       "    <tr>\n",
       "      <th>26508</th>\n",
       "      <td>https://www.huffingtonpost.comhttps://www.wash...</td>\n",
       "      <td>immigration backlash at the heart of british p...</td>\n",
       "      <td>0</td>\n",
       "    </tr>\n",
       "    <tr>\n",
       "      <th>26660</th>\n",
       "      <td>https://www.huffingtonpost.comhttp://www.thegu...</td>\n",
       "      <td>the tragic death of alejandro nieto and san fr...</td>\n",
       "      <td>0</td>\n",
       "    </tr>\n",
       "    <tr>\n",
       "      <th>26681</th>\n",
       "      <td>https://www.huffingtonpost.comhttp://pubx.co/M...</td>\n",
       "      <td>dog born with odds stacked against her found j...</td>\n",
       "      <td>0</td>\n",
       "    </tr>\n",
       "  </tbody>\n",
       "</table>\n",
       "<p>582 rows × 3 columns</p>\n",
       "</div>"
      ],
      "text/plain": [
       "                                            article_link  \\\n",
       "12     https://www.huffingtonpost.comhttp://www.thegu...   \n",
       "23     https://www.huffingtonpost.comhttp://pubx.co/d...   \n",
       "54     https://www.huffingtonpost.comhttp://www.wsj.c...   \n",
       "131    https://www.huffingtonpost.comhttp://www.balti...   \n",
       "159    https://www.huffingtonpost.comhttps://www.wash...   \n",
       "166    https://www.huffingtonpost.comhttp://baltimore...   \n",
       "175    https://www.huffingtonpost.comhttps://www.wash...   \n",
       "178    https://www.huffingtonpost.comhttp://www.polit...   \n",
       "216    https://www.huffingtonpost.comhttp://pubx.co/i...   \n",
       "395    https://www.huffingtonpost.comhttp://pubx.co/V...   \n",
       "416    https://www.huffingtonpost.comhttp://magazine....   \n",
       "436    https://www.huffingtonpost.comhttps://www.wash...   \n",
       "517    https://www.huffingtonpost.comhttp://www.huffi...   \n",
       "521    https://www.huffingtonpost.comhttp://www.polit...   \n",
       "542    https://www.huffingtonpost.comhttp://thehill.c...   \n",
       "571    https://www.huffingtonpost.comhttp://thinkprog...   \n",
       "645    https://www.huffingtonpost.comhttp://www.polit...   \n",
       "677    https://www.huffingtonpost.comhttps://www.wash...   \n",
       "744    https://www.huffingtonpost.comhttp://www.holly...   \n",
       "780    https://www.huffingtonpost.comhttp://www.cheat...   \n",
       "863    https://www.huffingtonpost.comhttp://live.huff...   \n",
       "870    https://www.huffingtonpost.comhttp://www.capit...   \n",
       "950    https://www.huffingtonpost.comhttps://www.wash...   \n",
       "952    https://www.huffingtonpost.comhttps://www.wash...   \n",
       "954    https://www.huffingtonpost.comhttp://lifehacke...   \n",
       "961    https://www.huffingtonpost.comhttp://pubx.co/N...   \n",
       "1181   https://www.huffingtonpost.comhttp://www.nytim...   \n",
       "1248   https://www.huffingtonpost.comhttp://www.polit...   \n",
       "1599   https://www.huffingtonpost.comhttp://www.wsj.c...   \n",
       "1666   https://www.huffingtonpost.comhttp://www.popsu...   \n",
       "...                                                  ...   \n",
       "25438  https://www.huffingtonpost.comhttp://www.nytim...   \n",
       "25458  https://www.huffingtonpost.comhttp://www.billb...   \n",
       "25510  https://www.huffingtonpost.comhttp://rise.huff...   \n",
       "25511  https://www.huffingtonpost.comhttp://www.times...   \n",
       "25553  https://www.huffingtonpost.comhttps://www.prop...   \n",
       "25622  https://www.huffingtonpost.comhttp://www.thegu...   \n",
       "25631  https://www.huffingtonpost.comhttp://traveler....   \n",
       "25789  https://www.huffingtonpost.comhttp://www.slate...   \n",
       "25843  https://www.huffingtonpost.comhttp://live.huff...   \n",
       "25863  https://www.huffingtonpost.comhttp://www.mothe...   \n",
       "25875  https://www.huffingtonpost.comhttp://www.npr.o...   \n",
       "25910  https://www.huffingtonpost.comhttp://elections...   \n",
       "25913  https://www.huffingtonpost.comhttp://www.thegu...   \n",
       "25921  https://www.huffingtonpost.comhttp://www.thewr...   \n",
       "25944  https://www.huffingtonpost.comhttp://www.cnn.c...   \n",
       "25953  https://www.huffingtonpost.comhttp://fortune.c...   \n",
       "25991  https://www.huffingtonpost.comhttp://pubx.ch/1...   \n",
       "26023  https://www.huffingtonpost.comhttp://www.thegu...   \n",
       "26050  https://www.huffingtonpost.comhttp://thinkprog...   \n",
       "26106  https://www.huffingtonpost.comhttp://www.haare...   \n",
       "26198  https://www.huffingtonpost.comhttp://www.newno...   \n",
       "26215  https://www.huffingtonpost.comhttp://bigstory....   \n",
       "26233  https://www.huffingtonpost.comhttp://www.ibtim...   \n",
       "26254  https://www.huffingtonpost.comhttps://broadly....   \n",
       "26276  https://www.huffingtonpost.comhttp://www.latim...   \n",
       "26307  https://www.huffingtonpost.comhttp://www.nytim...   \n",
       "26434  https://www.huffingtonpost.comhttps://www.thed...   \n",
       "26508  https://www.huffingtonpost.comhttps://www.wash...   \n",
       "26660  https://www.huffingtonpost.comhttp://www.thegu...   \n",
       "26681  https://www.huffingtonpost.comhttp://pubx.co/M...   \n",
       "\n",
       "                                                headline  is_parody  \n",
       "12     north korea praises trump and urges us voters ...          0  \n",
       "23            this is why you shouldn't go to the circus          0  \n",
       "54     donald trump wouldn't have had the ready cash ...          0  \n",
       "131    councilman calls on baltimore rappers to inspi...          0  \n",
       "159    megyn kelly on donald trump: 'i have done my l...          0  \n",
       "166    'the wire' cast reunited in baltimore to uplif...          0  \n",
       "175                 donald trump's assault on our values          0  \n",
       "178    gop senators aren't ready to accept trump as t...          0  \n",
       "216    rubio supporters get in a scuffle with a 'rubi...          0  \n",
       "395    rescued lion has been obsessed with blankets s...          0  \n",
       "416                                     breaking uniform          0  \n",
       "436    military prosecutor: senate report on cia inte...          0  \n",
       "517    social unity is most important, says pm modi o...          0  \n",
       "521    dreamers face nightmare of trump's deportation...          0  \n",
       "542       koch network spent nearly $400 million in 2015          0  \n",
       "571    the restrictions journalists agreed to in orde...          0  \n",
       "645    sanders hits bill clinton on welfare reform, t...          0  \n",
       "677    washington post journalist jailed in iran has ...          0  \n",
       "744    bill henderson, jazz vocalist and actor, dies ...          0  \n",
       "780    5 longevity secrets from the world's healthies...          0  \n",
       "863    how jimmy carter learned to make his wife rosa...          0  \n",
       "870    bloomberg gadfly debuts in bid to shake-up fin...          0  \n",
       "950    gop race heads to south carolina, known for di...          0  \n",
       "952    george will trashes bill o'reilly: 'wise, he i...          0  \n",
       "954    the best ifttt recipes to make the most of you...          0  \n",
       "961     warm temperatures bring hot deals on winter gear          0  \n",
       "1181   nbc relocates 'nightly news' to trump tower, f...          0  \n",
       "1248   meg whitman compares donald trump to hitler, m...          0  \n",
       "1599   zenefits once told employees: no sex in stairw...          0  \n",
       "1666   5 things you miss about married life as a divo...          0  \n",
       "...                                                  ...        ...  \n",
       "25438       obama faces two unappealing choices on gitmo          0  \n",
       "25458  prince rep has 'no knowledge' of jay z's repor...          0  \n",
       "25510  we learn our best lessons when we fail, accord...          0  \n",
       "25511  ex-israeli defense chief: netanyahu wanted to ...          0  \n",
       "25553  how at&t execs took over the red cross and hur...          0  \n",
       "25622  marc andreessen's 'colonialism' gaffe? a sympt...          0  \n",
       "25631  the best taxi and ride-hailing apps around the...          0  \n",
       "25789  i am terrified of taking my child literally an...          0  \n",
       "25843  watch live: william shatner discusses the life...          0  \n",
       "25863  on facebook, trump's longtime butler calls for...          0  \n",
       "25875  how police chaplains help departments cope wit...          0  \n",
       "25910                             presidential primaries          0  \n",
       "25913  'from mid-range he could kill you': bernie san...          0  \n",
       "25921  20th century fox, paramount have no female dir...          0  \n",
       "25944  saudis snub obama on riyadh arrival amid growi...          0  \n",
       "25953  retirement savings actually fell over the past...          0  \n",
       "25991  florida man sentenced for running over ducks w...          0  \n",
       "26023  america's decline in wages can be traced to ge...          0  \n",
       "26050  novelist obliterates the bundy militia — and o...          0  \n",
       "26106  why hillary clinton is moving left on every is...          0  \n",
       "26198  'steven universe' creator rebecca sugar on lgb...          0  \n",
       "26215  poll: millennials more open to idea of slavery...          0  \n",
       "26233  joe biden backed bills to make it harder for a...          0  \n",
       "26254  meet the trans woman who wants to change roman...          0  \n",
       "26276  fbi arrests brother of san bernardino terroris...          0  \n",
       "26307  fired police chief, 2 other officers, sue for ...          0  \n",
       "26434  dog picks out her own shelter kitten to take home          0  \n",
       "26508  immigration backlash at the heart of british p...          0  \n",
       "26660  the tragic death of alejandro nieto and san fr...          0  \n",
       "26681  dog born with odds stacked against her found j...          0  \n",
       "\n",
       "[582 rows x 3 columns]"
      ]
     },
     "execution_count": 7,
     "metadata": {},
     "output_type": "execute_result"
    }
   ],
   "source": [
    "sarcasm.loc[sarcasm['article_link'].str.contains('comhttp')]"
   ]
  },
  {
   "cell_type": "code",
   "execution_count": 8,
   "metadata": {},
   "outputs": [
    {
     "data": {
      "text/plain": [
       "30"
      ]
     },
     "execution_count": 8,
     "metadata": {},
     "output_type": "execute_result"
    }
   ],
   "source": [
    "len('https://www.huffingtonpost.com')"
   ]
  },
  {
   "cell_type": "code",
   "execution_count": 9,
   "metadata": {},
   "outputs": [],
   "source": [
    "sarcasm.loc[sarcasm['article_link'].str.contains('comhttp'), 'article_link'] = sarcasm.loc[sarcasm['article_link'].str.contains('comhttp'), 'article_link'].str[30:]"
   ]
  },
  {
   "cell_type": "code",
   "execution_count": 10,
   "metadata": {},
   "outputs": [
    {
     "data": {
      "text/html": [
       "<div>\n",
       "<style scoped>\n",
       "    .dataframe tbody tr th:only-of-type {\n",
       "        vertical-align: middle;\n",
       "    }\n",
       "\n",
       "    .dataframe tbody tr th {\n",
       "        vertical-align: top;\n",
       "    }\n",
       "\n",
       "    .dataframe thead th {\n",
       "        text-align: right;\n",
       "    }\n",
       "</style>\n",
       "<table border=\"1\" class=\"dataframe\">\n",
       "  <thead>\n",
       "    <tr style=\"text-align: right;\">\n",
       "      <th></th>\n",
       "      <th>article_link</th>\n",
       "      <th>headline</th>\n",
       "      <th>is_parody</th>\n",
       "    </tr>\n",
       "  </thead>\n",
       "  <tbody>\n",
       "    <tr>\n",
       "      <th>15777</th>\n",
       "      <td>https://www.huffingtonpost.com/entry/the-onion...</td>\n",
       "      <td>the onion is getting into the movie business</td>\n",
       "      <td>0</td>\n",
       "    </tr>\n",
       "    <tr>\n",
       "      <th>19948</th>\n",
       "      <td>http://www.theonion.com/blogpost/do-you-know-w...</td>\n",
       "      <td>do you know why i'm pulling you over, being wi...</td>\n",
       "      <td>0</td>\n",
       "    </tr>\n",
       "    <tr>\n",
       "      <th>21677</th>\n",
       "      <td>https://www.huffingtonpost.com/entry/sunions-t...</td>\n",
       "      <td>we tested the new 'tearless' onions to see if ...</td>\n",
       "      <td>0</td>\n",
       "    </tr>\n",
       "  </tbody>\n",
       "</table>\n",
       "</div>"
      ],
      "text/plain": [
       "                                            article_link  \\\n",
       "15777  https://www.huffingtonpost.com/entry/the-onion...   \n",
       "19948  http://www.theonion.com/blogpost/do-you-know-w...   \n",
       "21677  https://www.huffingtonpost.com/entry/sunions-t...   \n",
       "\n",
       "                                                headline  is_parody  \n",
       "15777       the onion is getting into the movie business          0  \n",
       "19948  do you know why i'm pulling you over, being wi...          0  \n",
       "21677  we tested the new 'tearless' onions to see if ...          0  "
      ]
     },
     "execution_count": 10,
     "metadata": {},
     "output_type": "execute_result"
    }
   ],
   "source": [
    "sarcasm.loc[(sarcasm['article_link'].str.contains('onion')) & (sarcasm['is_parody'] == 0)]"
   ]
  },
  {
   "cell_type": "code",
   "execution_count": 11,
   "metadata": {},
   "outputs": [],
   "source": [
    "sarcasm.iloc[19948, 2] = 1"
   ]
  },
  {
   "cell_type": "code",
   "execution_count": 61,
   "metadata": {},
   "outputs": [
    {
     "data": {
      "text/plain": [
       "pandas.core.frame.DataFrame"
      ]
     },
     "execution_count": 61,
     "metadata": {},
     "output_type": "execute_result"
    }
   ],
   "source": [
    "parody = sarcasm[sarcasm['is_parody'] == 1]\n",
    "type(parody)"
   ]
  },
  {
   "cell_type": "code",
   "execution_count": 62,
   "metadata": {},
   "outputs": [],
   "source": [
    "parody.to_csv('../data/processed/parody.csv')"
   ]
  },
  {
   "cell_type": "markdown",
   "metadata": {},
   "source": [
    "# Word2Vec"
   ]
  },
  {
   "cell_type": "code",
   "execution_count": 12,
   "metadata": {},
   "outputs": [
    {
     "name": "stderr",
     "output_type": "stream",
     "text": [
      "Using TensorFlow backend.\n"
     ]
    }
   ],
   "source": [
    "from gensim.models import Word2Vec\n",
    "from keras.preprocessing import text, sequence\n",
    "from sklearn.model_selection import train_test_split"
   ]
  },
  {
   "cell_type": "code",
   "execution_count": 13,
   "metadata": {},
   "outputs": [],
   "source": [
    "y = sarcasm['is_parody'].values"
   ]
  },
  {
   "cell_type": "code",
   "execution_count": 14,
   "metadata": {},
   "outputs": [
    {
     "data": {
      "text/plain": [
       "array([0, 0, 1, ..., 0, 0, 0])"
      ]
     },
     "execution_count": 14,
     "metadata": {},
     "output_type": "execute_result"
    }
   ],
   "source": [
    "y"
   ]
  },
  {
   "cell_type": "code",
   "execution_count": 21,
   "metadata": {},
   "outputs": [],
   "source": [
    "from keras.preprocessing.text import Tokenizer\n",
    "from keras.preprocessing.sequence import pad_sequences\n",
    "from keras.layers import Dense, Input, LSTM, Embedding, Dropout, Activation\n",
    "from keras.layers import Bidirectional, GlobalMaxPool1D\n",
    "from keras.models import Model\n",
    "from keras import initializers, regularizers, constraints, optimizers, layers"
   ]
  },
  {
   "cell_type": "code",
   "execution_count": 22,
   "metadata": {},
   "outputs": [],
   "source": [
    "X_train, X_test, y_train, y_test = train_test_split(sarcasm['headline'], y, test_size=.20)"
   ]
  },
  {
   "cell_type": "code",
   "execution_count": 23,
   "metadata": {},
   "outputs": [
    {
     "data": {
      "text/plain": [
       "pandas.core.series.Series"
      ]
     },
     "execution_count": 23,
     "metadata": {},
     "output_type": "execute_result"
    }
   ],
   "source": [
    "type(X_train)"
   ]
  },
  {
   "cell_type": "code",
   "execution_count": 24,
   "metadata": {},
   "outputs": [],
   "source": [
    "tokenizer = Tokenizer(num_words=20000)\n",
    "tokenizer.fit_on_texts(list(X_train))\n",
    "list_tokenized_train = tokenizer.texts_to_sequences(X_train)\n",
    "list_tokenized_test = tokenizer.texts_to_sequences(X_test)"
   ]
  },
  {
   "cell_type": "code",
   "execution_count": 25,
   "metadata": {},
   "outputs": [],
   "source": [
    "total_word_counts = [len(headline) for headline in list_tokenized_train]"
   ]
  },
  {
   "cell_type": "code",
   "execution_count": 26,
   "metadata": {},
   "outputs": [
    {
     "data": {
      "text/plain": [
       "(array([2.000e+00, 2.300e+01, 1.350e+02, 2.840e+02, 5.120e+02, 9.790e+02,\n",
       "        1.380e+03, 1.920e+03, 2.377e+03, 2.640e+03, 2.660e+03, 2.481e+03,\n",
       "        2.054e+03, 1.437e+03, 9.470e+02, 6.090e+02, 3.970e+02, 2.350e+02,\n",
       "        1.320e+02, 6.400e+01, 3.700e+01, 2.900e+01, 1.500e+01, 6.000e+00,\n",
       "        4.000e+00, 0.000e+00, 1.000e+00, 1.000e+00, 1.000e+00, 1.000e+00,\n",
       "        1.000e+00, 1.000e+00, 0.000e+00, 0.000e+00, 0.000e+00, 0.000e+00,\n",
       "        1.000e+00, 0.000e+00, 0.000e+00, 1.000e+00]),\n",
       " array([ 0.   ,  0.975,  1.95 ,  2.925,  3.9  ,  4.875,  5.85 ,  6.825,\n",
       "         7.8  ,  8.775,  9.75 , 10.725, 11.7  , 12.675, 13.65 , 14.625,\n",
       "        15.6  , 16.575, 17.55 , 18.525, 19.5  , 20.475, 21.45 , 22.425,\n",
       "        23.4  , 24.375, 25.35 , 26.325, 27.3  , 28.275, 29.25 , 30.225,\n",
       "        31.2  , 32.175, 33.15 , 34.125, 35.1  , 36.075, 37.05 , 38.025,\n",
       "        39.   ]),\n",
       " <a list of 40 Patch objects>)"
      ]
     },
     "execution_count": 26,
     "metadata": {},
     "output_type": "execute_result"
    },
    {
     "data": {
      "image/png": "[encoded data removed]",
      "text/plain": [
       "<Figure size 648x648 with 1 Axes>"
      ]
     },
     "metadata": {
      "needs_background": "light"
     },
     "output_type": "display_data"
    }
   ],
   "source": [
    "fig, ax = plt.subplots(figsize=(9,9))\n",
    "ax.hist(total_word_counts, bins = 40)"
   ]
  },
  {
   "cell_type": "code",
   "execution_count": 27,
   "metadata": {},
   "outputs": [
    {
     "data": {
      "text/plain": [
       "39"
      ]
     },
     "execution_count": 27,
     "metadata": {},
     "output_type": "execute_result"
    }
   ],
   "source": [
    "max(total_word_counts)"
   ]
  },
  {
   "cell_type": "code",
   "execution_count": 28,
   "metadata": {},
   "outputs": [
    {
     "data": {
      "text/plain": [
       "10    2660\n",
       "9     2640\n",
       "11    2481\n",
       "8     2377\n",
       "12    2054\n",
       "7     1920\n",
       "13    1437\n",
       "6     1380\n",
       "5      979\n",
       "14     947\n",
       "15     609\n",
       "4      512\n",
       "16     397\n",
       "3      284\n",
       "17     235\n",
       "2      135\n",
       "18     132\n",
       "19      64\n",
       "20      37\n",
       "21      29\n",
       "1       23\n",
       "22      15\n",
       "23       6\n",
       "24       4\n",
       "0        2\n",
       "36       1\n",
       "39       1\n",
       "26       1\n",
       "27       1\n",
       "28       1\n",
       "29       1\n",
       "30       1\n",
       "31       1\n",
       "dtype: int64"
      ]
     },
     "execution_count": 28,
     "metadata": {},
     "output_type": "execute_result"
    }
   ],
   "source": [
    "counter = pd.Series(total_word_counts)\n",
    "counter.value_counts()"
   ]
  },
  {
   "cell_type": "code",
   "execution_count": 29,
   "metadata": {},
   "outputs": [],
   "source": [
    "maxlen = 18\n",
    "X_t = pad_sequences(list_tokenized_train, maxlen=maxlen)\n",
    "X_te = pad_sequences(list_tokenized_test, maxlen=maxlen)"
   ]
  },
  {
   "cell_type": "code",
   "execution_count": 30,
   "metadata": {},
   "outputs": [
    {
     "data": {
      "text/plain": [
       "(21367, 18)"
      ]
     },
     "execution_count": 30,
     "metadata": {},
     "output_type": "execute_result"
    }
   ],
   "source": [
    "X_t.shape"
   ]
  },
  {
   "cell_type": "code",
   "execution_count": 32,
   "metadata": {},
   "outputs": [],
   "source": [
    "tokens = tokenizer.sequences_to_texts(list_tokenized_train) + tokenizer.sequences_to_texts(list_tokenized_test)"
   ]
  },
  {
   "cell_type": "code",
   "execution_count": 33,
   "metadata": {},
   "outputs": [],
   "source": [
    "tokens = [t.split(' ') for t in tokens]"
   ]
  },
  {
   "cell_type": "code",
   "execution_count": 34,
   "metadata": {},
   "outputs": [
    {
     "data": {
      "text/plain": [
       "[['my', 'modest', 'proposal']]"
      ]
     },
     "execution_count": 34,
     "metadata": {},
     "output_type": "execute_result"
    }
   ],
   "source": [
    "tokens[:1]"
   ]
  },
  {
   "cell_type": "code",
   "execution_count": 35,
   "metadata": {},
   "outputs": [
    {
     "data": {
      "text/plain": [
       "(2282658, 2576000)"
      ]
     },
     "execution_count": 35,
     "metadata": {},
     "output_type": "execute_result"
    }
   ],
   "source": [
    "model = Word2Vec(tokens, size=100, window=5, min_count=1, workers=4)\n",
    "\n",
    "model.train(tokens, total_examples=model.corpus_count, epochs=10)"
   ]
  },
  {
   "cell_type": "code",
   "execution_count": 36,
   "metadata": {},
   "outputs": [],
   "source": [
    "embeddings = model.wv"
   ]
  },
  {
   "cell_type": "code",
   "execution_count": 37,
   "metadata": {},
   "outputs": [],
   "source": [
    "keras_weights = embeddings.get_keras_embedding()"
   ]
  },
  {
   "cell_type": "code",
   "execution_count": 38,
   "metadata": {},
   "outputs": [
    {
     "data": {
      "text/plain": [
       "[('naacp', 0.9267419576644897),\n",
       " (\"chief'\", 0.9261459708213806),\n",
       " ('immunity', 0.924971878528595),\n",
       " ('border', 0.9245989322662354),\n",
       " ('biden', 0.9219706654548645),\n",
       " (\"'predator\", 0.9195743799209595),\n",
       " ('invokes', 0.9188481569290161),\n",
       " ('moore', 0.9186716079711914),\n",
       " ('perez', 0.9184410572052002),\n",
       " ('boehner', 0.917568027973175)]"
      ]
     },
     "execution_count": 38,
     "metadata": {},
     "output_type": "execute_result"
    }
   ],
   "source": [
    "embeddings.most_similar(positive=['obama', 'policy'])"
   ]
  },
  {
   "cell_type": "code",
   "execution_count": 49,
   "metadata": {},
   "outputs": [],
   "source": [
    "from gensim.models import Word2Vec\n",
    "from sklearn.model_selection import train_test_split\n",
    "from sklearn.metrics import accuracy_score\n",
    "from keras.preprocessing.text import Tokenizer\n",
    "from keras.preprocessing.sequence import pad_sequences\n",
    "from keras.layers import Dense, Input, LSTM, Embedding, Dropout, Activation, Conv1D, MaxPooling1D, GlobalMaxPooling1D\n",
    "from keras.layers import Bidirectional, GlobalMaxPool1D\n",
    "from keras.models import Model, Sequential\n",
    "from keras import initializers, regularizers, constraints, optimizers, layers"
   ]
  },
  {
   "cell_type": "code",
   "execution_count": 51,
   "metadata": {},
   "outputs": [
    {
     "name": "stdout",
     "output_type": "stream",
     "text": [
      "_________________________________________________________________\n",
      "Layer (type)                 Output Shape              Param #   \n",
      "=================================================================\n",
      "embedding_1 (Embedding)      (None, None, 100)         2000000   \n",
      "_________________________________________________________________\n",
      "conv1d_4 (Conv1D)            (None, None, 64)          19264     \n",
      "_________________________________________________________________\n",
      "max_pooling1d_2 (MaxPooling1 (None, None, 64)          0         \n",
      "_________________________________________________________________\n",
      "conv1d_5 (Conv1D)            (None, None, 64)          12352     \n",
      "_________________________________________________________________\n",
      "global_max_pooling1d_1 (Glob (None, 64)                0         \n",
      "_________________________________________________________________\n",
      "dropout_1 (Dropout)          (None, 64)                0         \n",
      "_________________________________________________________________\n",
      "dense_1 (Dense)              (None, 32)                2080      \n",
      "_________________________________________________________________\n",
      "dense_2 (Dense)              (None, 1)                 33        \n",
      "=================================================================\n",
      "Total params: 2,033,729\n",
      "Trainable params: 33,729\n",
      "Non-trainable params: 2,000,000\n",
      "_________________________________________________________________\n"
     ]
    }
   ],
   "source": [
    "model = Sequential()\n",
    "model.add(keras_weights)\n",
    "model.add(Conv1D(64, 3, activation='relu', padding='same'))\n",
    "model.add(MaxPooling1D())\n",
    "model.add(Conv1D(64, 3, activation='relu', padding='same'))\n",
    "model.add(GlobalMaxPooling1D())\n",
    "model.add(Dropout(0.5))\n",
    "model.add(Dense(32, activation='relu', kernel_regularizer=regularizers.l2(1e-4)))\n",
    "model.add(Dense(1, activation='sigmoid'))\n",
    "adam = optimizers.Adam(lr=0.001, beta_1=0.9, beta_2=0.999, epsilon=1e-08, decay=0.0)\n",
    "model.compile(loss='binary_crossentropy', optimizer=adam, metrics=['accuracy'])\n",
    "model.summary()"
   ]
  },
  {
   "cell_type": "code",
   "execution_count": null,
   "metadata": {},
   "outputs": [],
   "source": [
    "early_stopping = EarlyStopping(monitor='val_loss', min_delta=0.01, patience=4, verbose=1)\n",
    "callbacks_list = [early_stopping]"
   ]
  },
  {
   "cell_type": "code",
   "execution_count": 52,
   "metadata": {},
   "outputs": [],
   "source": [
    "batch_size = 256 \n",
    "num_epochs = 30"
   ]
  },
  {
   "cell_type": "code",
   "execution_count": 53,
   "metadata": {},
   "outputs": [
    {
     "name": "stdout",
     "output_type": "stream",
     "text": [
      "Train on 19230 samples, validate on 2137 samples\n",
      "Epoch 1/30\n",
      " - 3s - loss: 0.6687 - acc: 0.5902 - val_loss: 0.5758 - val_acc: 0.6785\n",
      "Epoch 2/30\n",
      " - 2s - loss: 0.5663 - acc: 0.6993 - val_loss: 0.5175 - val_acc: 0.6996\n",
      "Epoch 3/30\n",
      " - 2s - loss: 0.5250 - acc: 0.7320 - val_loss: 0.4753 - val_acc: 0.7567\n",
      "Epoch 4/30\n",
      " - 2s - loss: 0.5001 - acc: 0.7486 - val_loss: 0.4564 - val_acc: 0.7763\n",
      "Epoch 5/30\n",
      " - 2s - loss: 0.4890 - acc: 0.7529 - val_loss: 0.4682 - val_acc: 0.7482\n",
      "Epoch 6/30\n",
      " - 2s - loss: 0.4745 - acc: 0.7611 - val_loss: 0.4458 - val_acc: 0.7852\n",
      "Epoch 7/30\n",
      " - 2s - loss: 0.4658 - acc: 0.7663 - val_loss: 0.4534 - val_acc: 0.7656\n",
      "Epoch 8/30\n",
      " - 2s - loss: 0.4592 - acc: 0.7716 - val_loss: 0.4443 - val_acc: 0.7763\n",
      "Epoch 9/30\n",
      " - 2s - loss: 0.4436 - acc: 0.7865 - val_loss: 0.4367 - val_acc: 0.7745\n",
      "Epoch 10/30\n",
      " - 2s - loss: 0.4400 - acc: 0.7839 - val_loss: 0.4607 - val_acc: 0.7548\n",
      "Epoch 11/30\n",
      " - 2s - loss: 0.4320 - acc: 0.7918 - val_loss: 0.4292 - val_acc: 0.7955\n",
      "Epoch 12/30\n",
      " - 2s - loss: 0.4251 - acc: 0.7954 - val_loss: 0.4406 - val_acc: 0.7773\n",
      "Epoch 13/30\n",
      " - 2s - loss: 0.4211 - acc: 0.7946 - val_loss: 0.4288 - val_acc: 0.7932\n",
      "Epoch 14/30\n",
      " - 2s - loss: 0.4162 - acc: 0.8016 - val_loss: 0.4276 - val_acc: 0.7955\n",
      "Epoch 15/30\n",
      " - 2s - loss: 0.4063 - acc: 0.8069 - val_loss: 0.4249 - val_acc: 0.7950\n",
      "Epoch 16/30\n",
      " - 2s - loss: 0.4084 - acc: 0.8059 - val_loss: 0.4357 - val_acc: 0.7936\n",
      "Epoch 17/30\n",
      " - 2s - loss: 0.3942 - acc: 0.8100 - val_loss: 0.4334 - val_acc: 0.7847\n",
      "Epoch 18/30\n",
      " - 2s - loss: 0.3936 - acc: 0.8113 - val_loss: 0.4660 - val_acc: 0.7693\n",
      "Epoch 19/30\n",
      " - 2s - loss: 0.3827 - acc: 0.8177 - val_loss: 0.4429 - val_acc: 0.7922\n",
      "Epoch 20/30\n",
      " - 2s - loss: 0.3809 - acc: 0.8216 - val_loss: 0.4310 - val_acc: 0.7927\n",
      "Epoch 21/30\n",
      " - 2s - loss: 0.3784 - acc: 0.8199 - val_loss: 0.4305 - val_acc: 0.7918\n",
      "Epoch 22/30\n",
      " - 2s - loss: 0.3697 - acc: 0.8262 - val_loss: 0.4322 - val_acc: 0.7922\n",
      "Epoch 23/30\n",
      " - 2s - loss: 0.3686 - acc: 0.8278 - val_loss: 0.4336 - val_acc: 0.7950\n",
      "Epoch 24/30\n",
      " - 2s - loss: 0.3577 - acc: 0.8311 - val_loss: 0.4491 - val_acc: 0.7946\n",
      "Epoch 25/30\n",
      " - 2s - loss: 0.3613 - acc: 0.8339 - val_loss: 0.4451 - val_acc: 0.7852\n",
      "Epoch 26/30\n",
      " - 2s - loss: 0.3548 - acc: 0.8379 - val_loss: 0.4481 - val_acc: 0.7955\n",
      "Epoch 27/30\n",
      " - 2s - loss: 0.3573 - acc: 0.8338 - val_loss: 0.4364 - val_acc: 0.7904\n",
      "Epoch 28/30\n",
      " - 2s - loss: 0.3449 - acc: 0.8394 - val_loss: 0.4563 - val_acc: 0.7880\n",
      "Epoch 29/30\n",
      " - 2s - loss: 0.3377 - acc: 0.8459 - val_loss: 0.4483 - val_acc: 0.7894\n",
      "Epoch 30/30\n",
      " - 2s - loss: 0.3363 - acc: 0.8472 - val_loss: 0.4567 - val_acc: 0.7866\n"
     ]
    }
   ],
   "source": [
    "hist = model.fit(X_t, y_train, batch_size=batch_size, epochs=num_epochs, validation_split=0.1, shuffle=True, verbose=2)"
   ]
  },
  {
   "cell_type": "code",
   "execution_count": 54,
   "metadata": {},
   "outputs": [],
   "source": [
    "y_pred = model.predict(X_te)"
   ]
  },
  {
   "cell_type": "code",
   "execution_count": 55,
   "metadata": {},
   "outputs": [],
   "source": [
    "from sklearn.metrics import accuracy_score"
   ]
  },
  {
   "cell_type": "code",
   "execution_count": 56,
   "metadata": {},
   "outputs": [],
   "source": [
    "def rounder(array):\n",
    "    new = []\n",
    "    for i in array:\n",
    "        if i >= .5:\n",
    "            new.append(1)\n",
    "        else:\n",
    "            new.append(0)\n",
    "    return np.array(new)"
   ]
  },
  {
   "cell_type": "code",
   "execution_count": 57,
   "metadata": {},
   "outputs": [],
   "source": [
    "y_pred_bin = rounder(y_pred)"
   ]
  },
  {
   "cell_type": "code",
   "execution_count": 58,
   "metadata": {},
   "outputs": [
    {
     "data": {
      "text/plain": [
       "0.7785473605391239"
      ]
     },
     "execution_count": 58,
     "metadata": {},
     "output_type": "execute_result"
    }
   ],
   "source": [
    "accuracy_score(y_test, y_pred_bin)"
   ]
  },
  {
   "cell_type": "code",
   "execution_count": null,
   "metadata": {},
   "outputs": [],
   "source": []
  }
 ],
 "metadata": {
  "kernelspec": {
   "display_name": "Python 3",
   "language": "python",
   "name": "python3"
  },
  "language_info": {
   "codemirror_mode": {
    "name": "ipython",
    "version": 3
   },
   "file_extension": ".py",
   "mimetype": "text/x-python",
   "name": "python",
   "nbconvert_exporter": "python",
   "pygments_lexer": "ipython3",
   "version": "3.6.8"
  }
 },
 "nbformat": 4,
 "nbformat_minor": 2
}
